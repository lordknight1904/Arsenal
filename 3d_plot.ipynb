{
 "cells": [
  {
   "cell_type": "code",
   "execution_count": 1,
   "metadata": {},
   "outputs": [],
   "source": [
    "%load_ext autoreload\n",
    "%autoreload 2"
   ]
  },
  {
   "cell_type": "code",
   "execution_count": 2,
   "metadata": {},
   "outputs": [
    {
     "name": "stdout",
     "output_type": "stream",
     "text": [
      "Using matplotlib backend: <object object at 0x7f76de4dea00>\n"
     ]
    }
   ],
   "source": [
    "%matplotlib"
   ]
  },
  {
   "cell_type": "code",
   "execution_count": 3,
   "metadata": {},
   "outputs": [],
   "source": [
    "import matplotlib.pyplot as plt\n",
    "import numpy as np"
   ]
  },
  {
   "cell_type": "code",
   "execution_count": 15,
   "metadata": {},
   "outputs": [
    {
     "ename": "ValueError",
     "evalue": "Valid values for `indexing` are 'xy' and 'ij'.",
     "output_type": "error",
     "traceback": [
      "\u001b[0;31m---------------------------------------------------------------------------\u001b[0m",
      "\u001b[0;31mValueError\u001b[0m                                Traceback (most recent call last)",
      "Cell \u001b[0;32mIn[15], line 7\u001b[0m\n\u001b[1;32m      4\u001b[0m y_ \u001b[39m=\u001b[39m np\u001b[39m.\u001b[39mlinspace(\u001b[39m1.\u001b[39m, \u001b[39m2.\u001b[39m, \u001b[39m20\u001b[39m)\n\u001b[1;32m      5\u001b[0m z_ \u001b[39m=\u001b[39m np\u001b[39m.\u001b[39mlinspace(\u001b[39m3.\u001b[39m, \u001b[39m4.\u001b[39m, \u001b[39m30\u001b[39m)\n\u001b[0;32m----> 7\u001b[0m space \u001b[39m=\u001b[39m np\u001b[39m.\u001b[39;49mmeshgrid(\n\u001b[1;32m      8\u001b[0m     np\u001b[39m.\u001b[39;49mlinspace(\u001b[39m0.\u001b[39;49m, \u001b[39m1.\u001b[39;49m, \u001b[39m10\u001b[39;49m),\n\u001b[1;32m      9\u001b[0m     np\u001b[39m.\u001b[39;49mlinspace(\u001b[39m1.\u001b[39;49m, \u001b[39m2.\u001b[39;49m, \u001b[39m20\u001b[39;49m),\n\u001b[1;32m     10\u001b[0m     np\u001b[39m.\u001b[39;49mlinspace(\u001b[39m3.\u001b[39;49m, \u001b[39m4.\u001b[39;49m, \u001b[39m30\u001b[39;49m),\n\u001b[1;32m     11\u001b[0m     indexing\u001b[39m=\u001b[39;49m\u001b[39m'\u001b[39;49m\u001b[39mxyz\u001b[39;49m\u001b[39m'\u001b[39;49m\n\u001b[1;32m     12\u001b[0m )\n\u001b[1;32m     14\u001b[0m \u001b[39m# assert np.all(x[:,0,0] == x_)\u001b[39;00m\n\u001b[1;32m     15\u001b[0m \u001b[39m# assert np.all(y[0,:,0] == y_)\u001b[39;00m\n\u001b[1;32m     16\u001b[0m \u001b[39m# assert np.all(z[0,0,:] == z_)\u001b[39;00m\n",
      "File \u001b[0;32m<__array_function__ internals>:180\u001b[0m, in \u001b[0;36mmeshgrid\u001b[0;34m(*args, **kwargs)\u001b[0m\n",
      "File \u001b[0;32m~/anaconda3/envs/mv/lib/python3.8/site-packages/numpy/lib/function_base.py:4973\u001b[0m, in \u001b[0;36mmeshgrid\u001b[0;34m(copy, sparse, indexing, *xi)\u001b[0m\n\u001b[1;32m   4970\u001b[0m ndim \u001b[39m=\u001b[39m \u001b[39mlen\u001b[39m(xi)\n\u001b[1;32m   4972\u001b[0m \u001b[39mif\u001b[39;00m indexing \u001b[39mnot\u001b[39;00m \u001b[39min\u001b[39;00m [\u001b[39m'\u001b[39m\u001b[39mxy\u001b[39m\u001b[39m'\u001b[39m, \u001b[39m'\u001b[39m\u001b[39mij\u001b[39m\u001b[39m'\u001b[39m]:\n\u001b[0;32m-> 4973\u001b[0m     \u001b[39mraise\u001b[39;00m \u001b[39mValueError\u001b[39;00m(\n\u001b[1;32m   4974\u001b[0m         \u001b[39m\"\u001b[39m\u001b[39mValid values for `indexing` are \u001b[39m\u001b[39m'\u001b[39m\u001b[39mxy\u001b[39m\u001b[39m'\u001b[39m\u001b[39m and \u001b[39m\u001b[39m'\u001b[39m\u001b[39mij\u001b[39m\u001b[39m'\u001b[39m\u001b[39m.\u001b[39m\u001b[39m\"\u001b[39m)\n\u001b[1;32m   4976\u001b[0m s0 \u001b[39m=\u001b[39m (\u001b[39m1\u001b[39m,) \u001b[39m*\u001b[39m ndim\n\u001b[1;32m   4977\u001b[0m output \u001b[39m=\u001b[39m [np\u001b[39m.\u001b[39masanyarray(x)\u001b[39m.\u001b[39mreshape(s0[:i] \u001b[39m+\u001b[39m (\u001b[39m-\u001b[39m\u001b[39m1\u001b[39m,) \u001b[39m+\u001b[39m s0[i \u001b[39m+\u001b[39m \u001b[39m1\u001b[39m:])\n\u001b[1;32m   4978\u001b[0m           \u001b[39mfor\u001b[39;00m i, x \u001b[39min\u001b[39;00m \u001b[39menumerate\u001b[39m(xi)]\n",
      "\u001b[0;31mValueError\u001b[0m: Valid values for `indexing` are 'xy' and 'ij'."
     ]
    }
   ],
   "source": [
    "h, w, d = 20, 20, 10\n",
    "\n",
    "x_ = np.linspace(0., 1., 10)\n",
    "y_ = np.linspace(1., 2., 20)\n",
    "z_ = np.linspace(3., 4., 30)\n",
    "\n",
    "space = np.meshgrid(\n",
    "    np.linspace(0., 1., 10),\n",
    "    np.linspace(1., 2., 20),\n",
    "    np.linspace(3., 4., 30),\n",
    "    indexing='xy'\n",
    ")\n",
    "\n",
    "# assert np.all(x[:,0,0] == x_)\n",
    "# assert np.all(y[0,:,0] == y_)\n",
    "# assert np.all(z[0,0,:] == z_)"
   ]
  },
  {
   "cell_type": "code",
   "execution_count": null,
   "metadata": {},
   "outputs": [
    {
     "data": {
      "text/plain": [
       "(3, 20, 10, 30)"
      ]
     },
     "execution_count": 14,
     "metadata": {},
     "output_type": "execute_result"
    }
   ],
   "source": [
    "np.array(space).shape"
   ]
  },
  {
   "cell_type": "code",
   "execution_count": null,
   "metadata": {},
   "outputs": [],
   "source": []
  }
 ],
 "metadata": {
  "kernelspec": {
   "display_name": "mv",
   "language": "python",
   "name": "python3"
  },
  "language_info": {
   "codemirror_mode": {
    "name": "ipython",
    "version": 3
   },
   "file_extension": ".py",
   "mimetype": "text/x-python",
   "name": "python",
   "nbconvert_exporter": "python",
   "pygments_lexer": "ipython3",
   "version": "3.8.15"
  },
  "orig_nbformat": 4,
  "vscode": {
   "interpreter": {
    "hash": "5a8606944768fd80b3a8283e5fef6d6fcf6371029cd4590ca3d7034a27b28394"
   }
  }
 },
 "nbformat": 4,
 "nbformat_minor": 2
}
