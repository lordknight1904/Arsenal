{
 "cells": [
  {
   "cell_type": "code",
   "execution_count": 1,
   "metadata": {},
   "outputs": [],
   "source": [
    "%load_ext autoreload\n",
    "%autoreload 2"
   ]
  },
  {
   "cell_type": "code",
   "execution_count": 9,
   "metadata": {},
   "outputs": [],
   "source": [
    "import matplotlib.pyplot as plt\n",
    "import numpy as np\n",
    "\n",
    "from dataclasses import dataclass, field\n",
    "from typing import List"
   ]
  },
  {
   "cell_type": "code",
   "execution_count": 7,
   "metadata": {},
   "outputs": [],
   "source": [
    "x, y, h = 10, 20, 30\n",
    "\n",
    "space = np.meshgrid(\n",
    "    np.linspace(0, x, x),\n",
    "    np.linspace(0, y, y),\n",
    "    np.linspace(0, h, h),\n",
    "    indexing='ij'\n",
    ")\n",
    "\n",
    "viewing_angle = np.array([0, 1, 0])  # looking forward"
   ]
  },
  {
   "cell_type": "code",
   "execution_count": 8,
   "metadata": {},
   "outputs": [
    {
     "data": {
      "text/plain": [
       "(3, 10, 20, 30)"
      ]
     },
     "execution_count": 8,
     "metadata": {},
     "output_type": "execute_result"
    }
   ],
   "source": [
    "np.array(space).shape"
   ]
  },
  {
   "cell_type": "code",
   "execution_count": null,
   "metadata": {},
   "outputs": [],
   "source": [
    "@dataclass\n",
    "class Camera:\n",
    "    focal_length: float\n",
    "    resolution: List[int, int]\n",
    "\n",
    "    position: List[float, float, float]=field(default_factory=[0., 0., 0.])\n",
    "    angle: List[float, float, float]=field(default_factory=[0., 1., 0.])\n",
    "\n",
    "\n",
    "    # def __post_init__(self):\n",
    "    #     self.c = self.a + self.b\n",
    "\n",
    "    def _rotation_angle(self, std):\n",
    "        cos = np.dot(std, self.angle)  # / length of angle, which is 1 as it is a unit vector\n",
    "        sin = np.linalg.norm(np.cross(std, self.angle))\n",
    "\n",
    "        return cos, sin\n",
    "\n",
    "    def transform(self, \n",
    "        space,\n",
    "        world_position, world_angle\n",
    "    ):\n",
    "        translation = self.position - world_position  # row vector\n",
    "\n",
    "        assert (l := np.linalg.norm(self.angle)) != 0, f\"value of camera's angle is weird\"\n",
    "        norm_angle = self.angle / l\n",
    "\n",
    "        # rotational angles of 3 axis\n",
    "        cos_x, sin_x = self._rotation_angle(np.array([1, 0, 0]))\n",
    "        cos_y, sin_y = self._rotation_angle(np.array([0, 1, 0]))\n",
    "        cos_h, sin_h = self._rotation_angle(np.array([0, 0, 1]))\n",
    "\n",
    "        rotation_x = np.array([\n",
    "            [cos_x, -sin_x, 0],\n",
    "            [sin_x, cos_x, 0],\n",
    "            [0, 0, 1],\n",
    "        ])\n",
    "        rotation_y = np.array([\n",
    "            [1, 0, 0],\n",
    "            [0, cos_y, sin_y],\n",
    "            [0, sin_y, cos_y],\n",
    "        ])\n",
    "        rotation_h = np.array([\n",
    "            [cos_h, 0, -sin_h],\n",
    "            [0, 1, 0],\n",
    "            [sin_h, 0, cos_h],\n",
    "        ])\n",
    "        rotation = rotation_x @ rotation_y @ rotation_h\n",
    "\n",
    "        intrinsic = np.array([\n",
    "            [self.focal_length, 0, 0, 0],\n",
    "            [0, self.focal_length, 0, 0],\n",
    "            [0, 0, 1, 0]\n",
    "        ])\n",
    "\n",
    "        abc = np.array([\n",
    "            [1/self.resolution[0], 0, 1/self.resolution[0]/2],\n",
    "            [0, 1/self.resolution[1], 1/self.resolution[1]/2],\n",
    "            [0, 0, 1]\n",
    "        ])\n",
    "\n",
    "        # return transform_space"
   ]
  },
  {
   "cell_type": "code",
   "execution_count": 12,
   "metadata": {},
   "outputs": [
    {
     "data": {
      "text/plain": [
       "2"
      ]
     },
     "execution_count": 12,
     "metadata": {},
     "output_type": "execute_result"
    }
   ],
   "source": [
    "np.dot(\n",
    "    np.array([2, 2, 1]),\n",
    "    np.array([1, 0, 0]),\n",
    ")"
   ]
  },
  {
   "cell_type": "code",
   "execution_count": null,
   "metadata": {},
   "outputs": [],
   "source": [
    "points = np.ones((100, 3))\n",
    "a = np.ones((4, 4))\n",
    "b = np.ones()"
   ]
  }
 ],
 "metadata": {
  "kernelspec": {
   "display_name": "torch",
   "language": "python",
   "name": "python3"
  },
  "language_info": {
   "codemirror_mode": {
    "name": "ipython",
    "version": 3
   },
   "file_extension": ".py",
   "mimetype": "text/x-python",
   "name": "python",
   "nbconvert_exporter": "python",
   "pygments_lexer": "ipython3",
   "version": "3.8.13 | packaged by conda-forge | (default, Mar 25 2022, 06:04:18) \n[GCC 10.3.0]"
  },
  "orig_nbformat": 4,
  "vscode": {
   "interpreter": {
    "hash": "7f8e845ca4ef26093e116a69c0c0225ebcc6616c4e8131964bb48d1688e6a5fa"
   }
  }
 },
 "nbformat": 4,
 "nbformat_minor": 2
}
