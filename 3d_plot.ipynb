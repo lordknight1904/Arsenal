{
 "cells": [
  {
   "cell_type": "code",
   "execution_count": 1,
   "metadata": {},
   "outputs": [],
   "source": [
    "%load_ext autoreload\n",
    "%autoreload 2"
   ]
  },
  {
   "cell_type": "code",
   "execution_count": 2,
   "metadata": {},
   "outputs": [],
   "source": [
    "import matplotlib.pyplot as plt\n",
    "import numpy as np\n",
    "\n",
    "from dataclasses import dataclass, field\n",
    "from typing import List, Tuple"
   ]
  },
  {
   "cell_type": "code",
   "execution_count": 22,
   "metadata": {},
   "outputs": [],
   "source": [
    "x, y, h = 10, 20, 30\n",
    "\n",
    "# space = np.meshgrid(\n",
    "#     np.linspace(0, x-1, x),\n",
    "#     np.linspace(0, y-1, y),\n",
    "#     np.linspace(0, h-1, h),\n",
    "#     indexing='ij'\n",
    "# )\n",
    "\n",
    "# viewing_angle = np.array([0, 1, 0])  # looking forward\n",
    "# print(np.array(space).shape)\n",
    "\n",
    "# space = np.arange(10*4).reshape((10, 4))\n",
    "space = np.array([\n",
    "    [1, 2, 3, 1],\n",
    "    [1, 2, 3, 1],\n",
    "])"
   ]
  },
  {
   "cell_type": "code",
   "execution_count": 30,
   "metadata": {},
   "outputs": [
    {
     "name": "stdout",
     "output_type": "stream",
     "text": [
      "[-0.03454222  0.02199254  1.94586423]\n"
     ]
    }
   ],
   "source": [
    "@dataclass\n",
    "class Camera:\n",
    "    focal_length: float\n",
    "    resolution: Tuple[int, int]\n",
    "\n",
    "    position: np.ndarray#=field(default_factory=np.array([0., 0., 0.]))\n",
    "    angle: np.ndarray#=field(default_factory=np.array([0., 1., 0.]))  # angle in degrees\n",
    "\n",
    "    # def __post_init__(self):\n",
    "    #     self.c = self.a + self.b\n",
    "\n",
    "    def _rotation_angle(self, std):\n",
    "        cos = np.dot(std, self.angle)  # / length of angle, which is 1 as it is a unit vector\n",
    "        sin = np.linalg.norm(np.cross(std, self.angle))\n",
    "\n",
    "        return cos, sin\n",
    "\n",
    "    '''\n",
    "        Transform world coordinate to pixel coordinate\n",
    "            - World to camera coordinate\n",
    "            - Camera to pixel coordinate\n",
    "    '''\n",
    "    def transform(self, \n",
    "        space,\n",
    "        world_position\n",
    "    ):\n",
    "        # convention assumption on viewing angles\n",
    "        translation = np.array(self.position - world_position)  # row vector\n",
    "\n",
    "        psi, theta, phi = self.angle  # R_x, R_y, R_z\n",
    "        sin_psi, cos_psi = np.sin(np.deg2rad(psi)), np.cos(np.deg2rad(psi))\n",
    "        sin_theta, cos_theta = np.sin(np.deg2rad(theta)), np.cos(np.deg2rad(theta))\n",
    "        sin_phi, cos_phi = np.sin(np.deg2rad(phi)), np.cos(np.deg2rad(phi))\n",
    "\n",
    "        rotation = np.array([\n",
    "            [cos_theta*cos_phi, sin_psi*sin_theta*cos_phi - cos_psi*sin_phi, cos_psi*sin_theta*cos_phi + sin_psi*sin_phi],\n",
    "            [cos_theta*sin_phi, sin_psi*sin_theta*sin_phi + cos_psi*cos_theta, cos_psi*sin_theta*sin_phi - sin_psi*sin_theta],\n",
    "            [-sin_theta, sin_phi*cos_theta, cos_phi*cos_theta]\n",
    "        ])\n",
    "        m = np.zeros((4, 4))\n",
    "        m[0:3, 0:3] = rotation\n",
    "        m[0:3, -1] = translation\n",
    "        m[-1, -1] = 1\n",
    "\n",
    "        intrinsic = np.array([\n",
    "            [self.focal_length, 0, 0, 0],\n",
    "            [0, self.focal_length, 0, 0],\n",
    "            [0, 0, 1, 0]\n",
    "        ])\n",
    "\n",
    "        abc = np.array([\n",
    "            [1/self.resolution[0], 0, 1/self.resolution[0]/2],\n",
    "            [0, 1/self.resolution[1], 1/self.resolution[1]/2],\n",
    "            [0, 0, 1]\n",
    "        ])\n",
    "\n",
    "        # image_space = np.matmul(space, m)\n",
    "        image_space = np.matmul(m, space.T).T\n",
    "        camera_space = np.matmul(intrinsic, image_space.T).T\n",
    "        pixel_space = np.matmul(abc, camera_space.T).T\n",
    "\n",
    "        return pixel_space\n",
    "\n",
    "camera = Camera(16.16003, (1536, 1536), np.array([0, 2.5, 3]), (17.288, 232.093, 0))\n",
    "pixel_coordinate = camera.transform(space, np.array([0, 0, 0]))\n",
    "print(pixel_coordinate[0])"
   ]
  },
  {
   "cell_type": "code",
   "execution_count": null,
   "metadata": {},
   "outputs": [],
   "source": [
    "np.dot(\n",
    "    np.array([2, 2, 1]),\n",
    "    np.array([1, 0, 0]),\n",
    ")"
   ]
  },
  {
   "cell_type": "code",
   "execution_count": null,
   "metadata": {},
   "outputs": [],
   "source": [
    "points = np.ones((100, 3))\n",
    "a = np.ones((4, 4))\n",
    "b = np.ones()"
   ]
  }
 ],
 "metadata": {
  "kernelspec": {
   "display_name": "det",
   "language": "python",
   "name": "python3"
  },
  "language_info": {
   "codemirror_mode": {
    "name": "ipython",
    "version": 3
   },
   "file_extension": ".py",
   "mimetype": "text/x-python",
   "name": "python",
   "nbconvert_exporter": "python",
   "pygments_lexer": "ipython3",
   "version": "3.9.15"
  },
  "orig_nbformat": 4,
  "vscode": {
   "interpreter": {
    "hash": "debd4527461c9e31724959cba871653cc769390fe5461e26ec5e8a1d64497dbf"
   }
  }
 },
 "nbformat": 4,
 "nbformat_minor": 2
}
