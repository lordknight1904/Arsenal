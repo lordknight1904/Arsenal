{
 "cells": [
  {
   "cell_type": "code",
   "execution_count": 1,
   "metadata": {},
   "outputs": [],
   "source": [
    "%load_ext autoreload\n",
    "%autoreload 2"
   ]
  },
  {
   "cell_type": "code",
   "execution_count": 1,
   "metadata": {},
   "outputs": [],
   "source": [
    "import autobot\n",
    "\n",
    "import torch\n",
    "from torch import nn\n",
    "import numpy as np"
   ]
  },
  {
   "cell_type": "code",
   "execution_count": 3,
   "metadata": {},
   "outputs": [],
   "source": [
    "batch_size = 4\n",
    "num_view = 3\n",
    "h, w = 256, 256\n",
    "\n",
    "imgs = torch.rand((batch_size, num_view, 3, h, w))"
   ]
  },
  {
   "cell_type": "code",
   "execution_count": 4,
   "metadata": {},
   "outputs": [
    {
     "name": "stdout",
     "output_type": "stream",
     "text": [
      "torch.Size([4, 3, 256, 128])\n"
     ]
    }
   ],
   "source": [
    "emb_layer = autobot.MultiViewEmbedding(emb_dim=128, patch_size=(16, 16))\n",
    "emb = emb_layer(imgs)\n",
    "print(emb.shape)"
   ]
  },
  {
   "cell_type": "code",
   "execution_count": 44,
   "metadata": {},
   "outputs": [
    {
     "name": "stdout",
     "output_type": "stream",
     "text": [
      "torch.Size([4, 3, 256, 128])\n",
      "query: torch.Size([4, 256, 128]) torch.Size([4, 256, 8])\n",
      "------------------------------\n",
      "key, value: torch.Size([4, 2, 256, 128]) torch.Size([4, 2, 256, 8]) torch.Size([4, 2, 256, 16])\n",
      "torch.Size([4, 1, 256, 8])\n",
      "torch.Size([4, 2, 256, 256])\n",
      "torch.Size([4, 2, 256, 256])\n",
      "v torch.Size([4, 2, 256, 16])\n",
      "o torch.Size([4, 256, 16])\n",
      "torch.Size([4, 256, 16])\n"
     ]
    }
   ],
   "source": [
    "class MultiViewAttention(nn.Module):\n",
    "    '''\n",
    "        MVA searches object in 3D space by computing similarity \n",
    "    '''\n",
    "    def __init__(self,\n",
    "        emb_dim, attn_dim, v_dim, num_heads,\n",
    "        num_view, view_transformation=None\n",
    "    ):\n",
    "        super().__init__()\n",
    "\n",
    "        self.emb_dim = emb_dim\n",
    "        self.attn_dim = attn_dim\n",
    "        self.v_dim = v_dim\n",
    "        self.num_heads = num_heads\n",
    "\n",
    "        self.query = nn.Linear(emb_dim, attn_dim)\n",
    "        self.key = nn.Linear(emb_dim, attn_dim)\n",
    "        self.value = nn.Linear(emb_dim, v_dim)\n",
    "        self.linear = nn.Linear(v_dim*num_heads, v_dim*num_heads)\n",
    "\n",
    "        self.per_view_mha = nn.ModuleList([\n",
    "            autobot.MultiHeadAttention(emb_dim, attn_dim, v_dim, num_heads)\n",
    "            for _ in range(num_view)\n",
    "        ])\n",
    "        \n",
    "    def forward(self, v, vs):\n",
    "        query = self.query(v)\n",
    "        \n",
    "        print('query:', v.shape, query.shape)\n",
    "        print('-'*30)\n",
    "        key = self.key(vs)\n",
    "        value = self.value(vs)\n",
    "        print('key, value:', vs.shape, key.shape, value.shape)\n",
    "\n",
    "        print(query.unsqueeze(1).shape)\n",
    "        logits = torch.matmul(query.unsqueeze(1), key.transpose(-1, -2))\n",
    "        print(logits.shape)\n",
    "        logits_ = logits.sum(1)\n",
    "        print(logits.shape)\n",
    "        attn_ = logits_.softmax(dim=-1)\n",
    "\n",
    "        attn = logits.softmax(dim=-1)\n",
    "        v = torch.matmul(attn, value)\n",
    "        print('v', v.shape)\n",
    "\n",
    "        o = torch.matmul(attn_, v.sum(1))\n",
    "        print('o', o.shape)\n",
    "\n",
    "        return self.linear(o)\n",
    "\n",
    "\n",
    "mva_layer = MultiViewAttention(emb_dim=128, attn_dim=8, v_dim=16, num_heads=1, num_view=num_view)\n",
    "i = 0\n",
    "print(emb.shape)\n",
    "mva = mva_layer(\n",
    "    emb[:, i, :, :], \n",
    "    torch.cat([\n",
    "        emb[:, :i, :, :],\n",
    "        emb[:, i+1:, :, :]\n",
    "    ], dim=1)  # from i-th view to other views that are not i-th\n",
    ")\n",
    "print(mva.shape)"
   ]
  },
  {
   "cell_type": "code",
   "execution_count": 2,
   "metadata": {},
   "outputs": [],
   "source": [
    "K = [[ 282.363047,      0.,          166.21515189],\n",
    "     [   0.,          280.10715905,  108.05494375],\n",
    "     [   0.,            0.,            1.        ]]\n",
    "K = np.array(K)\n",
    "R = np.eye(3)\n",
    "t = np.array([[0],[1.],[0]])\n",
    "P = K.dot(np.hstack((R,t)))\n",
    "C = np.array([0., 0., 1.])\n",
    "p1 = np.array([215, 180, 1.])"
   ]
  },
  {
   "cell_type": "code",
   "execution_count": 3,
   "metadata": {},
   "outputs": [
    {
     "data": {
      "text/plain": [
       "array([[282.363047  ,   0.        , 166.21515189,   0.        ],\n",
       "       [  0.        , 280.10715905, 108.05494375, 280.10715905],\n",
       "       [  0.        ,   0.        ,   1.        ,   0.        ]])"
      ]
     },
     "execution_count": 3,
     "metadata": {},
     "output_type": "execute_result"
    }
   ],
   "source": [
    "P"
   ]
  },
  {
   "cell_type": "code",
   "execution_count": 4,
   "metadata": {},
   "outputs": [
    {
     "data": {
      "text/plain": [
       "array([[1., 0., 0., 0.],\n",
       "       [0., 1., 0., 1.],\n",
       "       [0., 0., 1., 0.]])"
      ]
     },
     "execution_count": 4,
     "metadata": {},
     "output_type": "execute_result"
    }
   ],
   "source": [
    "np.hstack((R,t))"
   ]
  },
  {
   "cell_type": "code",
   "execution_count": 2,
   "metadata": {},
   "outputs": [
    {
     "name": "stdout",
     "output_type": "stream",
     "text": [
      "<generator object _get_gen at 0x7fdbf7c7e180>\n",
      "Object(s='0')\n",
      "Object(s='1')\n",
      "Object(s='2')\n",
      "Object(s='3')\n",
      "Object(s='4')\n",
      "Object(s='5')\n",
      "Object(s='6')\n",
      "Object(s='7')\n",
      "Object(s='8')\n",
      "Object(s='9')\n",
      "Object(s='10')\n",
      "Object(s='11')\n",
      "Object(s='12')\n",
      "Object(s='13')\n",
      "Object(s='14')\n",
      "Object(s='15')\n",
      "Object(s='16')\n",
      "Object(s='17')\n",
      "Object(s='18')\n",
      "Object(s='19')\n",
      "Object(s='20')\n",
      "Object(s='21')\n",
      "Object(s='22')\n",
      "Object(s='23')\n",
      "Object(s='24')\n",
      "Object(s='25')\n",
      "Object(s='26')\n",
      "Object(s='27')\n",
      "Object(s='28')\n",
      "Object(s='29')\n",
      "Object(s='30')\n",
      "Object(s='31')\n",
      "Object(s='32')\n",
      "Object(s='33')\n",
      "Object(s='34')\n",
      "Object(s='35')\n",
      "Object(s='36')\n",
      "Object(s='37')\n",
      "Object(s='38')\n",
      "Object(s='39')\n",
      "Object(s='40')\n",
      "Object(s='41')\n",
      "Object(s='42')\n",
      "Object(s='43')\n",
      "Object(s='44')\n",
      "Object(s='45')\n",
      "Object(s='46')\n",
      "Object(s='47')\n",
      "Object(s='48')\n",
      "Object(s='49')\n",
      "Object(s='50')\n",
      "Object(s='51')\n",
      "Object(s='52')\n",
      "Object(s='53')\n",
      "Object(s='54')\n",
      "Object(s='55')\n",
      "Object(s='56')\n",
      "Object(s='57')\n",
      "Object(s='58')\n",
      "Object(s='59')\n",
      "Object(s='60')\n",
      "Object(s='61')\n",
      "Object(s='62')\n",
      "Object(s='63')\n",
      "Object(s='64')\n",
      "Object(s='65')\n",
      "Object(s='66')\n",
      "Object(s='67')\n",
      "Object(s='68')\n",
      "Object(s='69')\n",
      "Object(s='70')\n",
      "Object(s='71')\n",
      "Object(s='72')\n",
      "Object(s='73')\n",
      "Object(s='74')\n",
      "Object(s='75')\n",
      "Object(s='76')\n",
      "Object(s='77')\n",
      "Object(s='78')\n",
      "Object(s='79')\n",
      "Object(s='80')\n",
      "Object(s='81')\n",
      "Object(s='82')\n",
      "Object(s='83')\n",
      "Object(s='84')\n",
      "Object(s='85')\n",
      "Object(s='86')\n",
      "Object(s='87')\n",
      "Object(s='88')\n",
      "Object(s='89')\n",
      "Object(s='90')\n",
      "Object(s='91')\n",
      "Object(s='92')\n",
      "Object(s='93')\n",
      "Object(s='94')\n",
      "Object(s='95')\n",
      "Object(s='96')\n",
      "Object(s='97')\n",
      "Object(s='98')\n",
      "Object(s='99')\n"
     ]
    }
   ],
   "source": [
    "from dataclasses import dataclass\n",
    "\n",
    "\n",
    "@dataclass(slots=True)\n",
    "class Object:\n",
    "    s: str='abc'\n",
    "\n",
    "def _process(row):\n",
    "    return Object(str(row))\n",
    "\n",
    "def _get_gen(l):\n",
    "    for i in range(l):\n",
    "        yield _process(i)\n",
    "\n",
    "g = _get_gen(100)\n",
    "\n",
    "print(g)\n",
    "\n",
    "for obj in g:\n",
    "    print(obj)"
   ]
  },
  {
   "cell_type": "code",
   "execution_count": null,
   "metadata": {},
   "outputs": [],
   "source": []
  }
 ],
 "metadata": {
  "kernelspec": {
   "display_name": "edet",
   "language": "python",
   "name": "python3"
  },
  "language_info": {
   "codemirror_mode": {
    "name": "ipython",
    "version": 3
   },
   "file_extension": ".py",
   "mimetype": "text/x-python",
   "name": "python",
   "nbconvert_exporter": "python",
   "pygments_lexer": "ipython3",
   "version": "3.9.15 (main, Nov 24 2022, 14:31:59) \n[GCC 11.2.0]"
  },
  "orig_nbformat": 4,
  "vscode": {
   "interpreter": {
    "hash": "a3a94878f375e66513a9f58a51086fe49a2b3775db248e5bb5453de8c77189b6"
   }
  }
 },
 "nbformat": 4,
 "nbformat_minor": 2
}
