{
 "cells": [
  {
   "cell_type": "code",
   "execution_count": 1,
   "metadata": {},
   "outputs": [],
   "source": [
    "%load_ext autoreload\n",
    "%autoreload 2"
   ]
  },
  {
   "cell_type": "code",
   "execution_count": 8,
   "metadata": {},
   "outputs": [],
   "source": [
    "import autobot\n",
    "\n",
    "import torch\n",
    "from torch import nn"
   ]
  },
  {
   "cell_type": "code",
   "execution_count": null,
   "metadata": {},
   "outputs": [],
   "source": [
    "class MultiViewAttention(autobot.MultiHeadAttention):\n",
    "\n",
    "    def __init__(self, emb_dim, attn_dim, v_dim, num_heads, num_view):\n",
    "        super().__init__(emb_dim, attn_dim, v_dim, num_heads)\n",
    "\n",
    "        self.per_view_mha = nn.ModuleList([\n",
    "            autobot.MultiHeadAttention(emb_dim, attn_dim, v_dim, num_heads)\n",
    "            for _ in range(num_view)\n",
    "        ])\n",
    "        \n",
    "    def forward(self, imgs):\n",
    "        pass"
   ]
  },
  {
   "cell_type": "code",
   "execution_count": 7,
   "metadata": {},
   "outputs": [],
   "source": [
    "batch_size = 4\n",
    "num_view = 3\n",
    "h, w = 256, 256\n",
    "\n",
    "imgs = torch.rand((batch_size, num_view, 3, h, w))"
   ]
  },
  {
   "cell_type": "code",
   "execution_count": null,
   "metadata": {},
   "outputs": [],
   "source": [
    "emb = autobot.MultiViewEmbedding(emb_dim=128, patch_size=(4, 4))\n"
   ]
  }
 ],
 "metadata": {
  "kernelspec": {
   "display_name": "mv",
   "language": "python",
   "name": "python3"
  },
  "language_info": {
   "codemirror_mode": {
    "name": "ipython",
    "version": 3
   },
   "file_extension": ".py",
   "mimetype": "text/x-python",
   "name": "python",
   "nbconvert_exporter": "python",
   "pygments_lexer": "ipython3",
   "version": "3.8.15"
  },
  "orig_nbformat": 4,
  "vscode": {
   "interpreter": {
    "hash": "5a8606944768fd80b3a8283e5fef6d6fcf6371029cd4590ca3d7034a27b28394"
   }
  }
 },
 "nbformat": 4,
 "nbformat_minor": 2
}
